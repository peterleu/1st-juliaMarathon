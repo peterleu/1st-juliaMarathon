{
 "cells": [
  {
   "cell_type": "markdown",
   "metadata": {},
   "source": [
    "# Julia 條件與迴圈\n",
    "\n",
    "## Day 007 作業：使用條件與迴圈找出數值\n",
    "\n",
    "運用迴圈及條件判斷，找出並印出範圍內 (例如從 1 到 100)，是 3 的倍數，但是無法被 5 整除的數字。"
   ]
  },
  {
   "cell_type": "code",
   "execution_count": null,
   "metadata": {},
   "outputs": [],
   "source": [
    "x = 1 #範圍起始\n",
    "y = 100 #範圍結束"
   ]
  },
  {
   "cell_type": "code",
   "execution_count": 7,
   "metadata": {},
   "outputs": [
    {
     "name": "stdout",
     "output_type": "stream",
     "text": [
      "found number=3, 3的倍數但不是5的倍數\n",
      "found number=5, 不是3的倍數但是5的倍數\n",
      "found number=6, 3的倍數但不是5的倍數\n",
      "found number=9, 3的倍數但不是5的倍數\n",
      "found number=10, 不是3的倍數但是5的倍數\n",
      "found number=12, 3的倍數但不是5的倍數\n",
      "found number=18, 3的倍數但不是5的倍數\n",
      "found number=20, 不是3的倍數但是5的倍數\n",
      "found number=21, 3的倍數但不是5的倍數\n",
      "found number=24, 3的倍數但不是5的倍數\n",
      "found number=25, 不是3的倍數但是5的倍數\n",
      "found number=27, 3的倍數但不是5的倍數\n",
      "found number=33, 3的倍數但不是5的倍數\n",
      "found number=35, 不是3的倍數但是5的倍數\n",
      "found number=36, 3的倍數但不是5的倍數\n",
      "found number=39, 3的倍數但不是5的倍數\n",
      "found number=40, 不是3的倍數但是5的倍數\n",
      "found number=42, 3的倍數但不是5的倍數\n",
      "found number=48, 3的倍數但不是5的倍數\n",
      "found number=50, 不是3的倍數但是5的倍數\n",
      "found number=51, 3的倍數但不是5的倍數\n",
      "found number=54, 3的倍數但不是5的倍數\n",
      "found number=55, 不是3的倍數但是5的倍數\n",
      "found number=57, 3的倍數但不是5的倍數\n",
      "found number=63, 3的倍數但不是5的倍數\n",
      "found number=65, 不是3的倍數但是5的倍數\n",
      "found number=66, 3的倍數但不是5的倍數\n",
      "found number=69, 3的倍數但不是5的倍數\n",
      "found number=70, 不是3的倍數但是5的倍數\n",
      "found number=72, 3的倍數但不是5的倍數\n",
      "found number=78, 3的倍數但不是5的倍數\n",
      "found number=80, 不是3的倍數但是5的倍數\n",
      "found number=81, 3的倍數但不是5的倍數\n",
      "found number=84, 3的倍數但不是5的倍數\n",
      "found number=85, 不是3的倍數但是5的倍數\n",
      "found number=87, 3的倍數但不是5的倍數\n",
      "found number=93, 3的倍數但不是5的倍數\n",
      "found number=95, 不是3的倍數但是5的倍數\n",
      "found number=96, 3的倍數但不是5的倍數\n",
      "found number=99, 3的倍數但不是5的倍數\n",
      "found number=100, 不是3的倍數但是5的倍數\n",
      "3的倍數但不是5的倍數共有 27 個\n"
     ]
    }
   ],
   "source": [
    "# 程式碼\n",
    "count = 0\n",
    "notcount = 0 \n",
    "for i=1:100\n",
    "    if (i%3==0)&&(i%5!=0)\n",
    "        println(\"found number=$i, 3的倍數但不是5的倍數\")\n",
    "        count+=1\n",
    "        else \n",
    "            notcount+=1\n",
    "            if ((i%3!=0)&&(i%5==0))\n",
    "            println(\"found number=$i, 不是3的倍數但是5的倍數\")\n",
    "            else continue\n",
    "        end\n",
    "    end\n",
    "end\n",
    "println(\"3的倍數但不是5的倍數共有 $count 個\")"
   ]
  },
  {
   "cell_type": "markdown",
   "metadata": {},
   "source": [
    "## Day 007 作業2：請閱讀下列程式碼，並選擇正確的輸出結果\n",
    "\n",
    "```julia\n",
    "a = 2\n",
    "\n",
    "while a >= 0\n",
    "    for b = 0:2\n",
    "        if (a == b)\n",
    "            print(\"1 \")\n",
    "        else\n",
    "            print(\"0 \")\n",
    "        end\n",
    "    end\n",
    "    println()    \n",
    "    a -= 1\n",
    "end\n",
    "```\n",
    "\n",
    "請問正確的輸出是下列何者？\n",
    "\n",
    "A. 1 0 0<br />\n",
    "0 1 0<br />\n",
    "0 0 1<br />\n",
    "\n",
    "B. 0 1 0<br />\n",
    "1 0 0<br />\n",
    "0 0 1<br />\n",
    "\n",
    "C.  0 0 1<br />\n",
    "0 1 0<br />\n",
    "1 0 0<br />\n",
    "\n",
    "D. 1 0 0<br />\n",
    "0 0 1<br />\n",
    "0 1 0<br />"
   ]
  },
  {
   "cell_type": "code",
   "execution_count": 8,
   "metadata": {},
   "outputs": [
    {
     "name": "stdout",
     "output_type": "stream",
     "text": [
      "0 0 1 \n",
      "0 1 0 \n",
      "1 0 0 \n"
     ]
    }
   ],
   "source": [
    "a = 2\n",
    "\n",
    "while a >= 0\n",
    "    for b = 0:2\n",
    "        if (a == b)\n",
    "            print(\"1 \")\n",
    "        else\n",
    "            print(\"0 \")\n",
    "        end\n",
    "    end\n",
    "    println()    \n",
    "    a -= 1\n",
    "end"
   ]
  },
  {
   "cell_type": "code",
   "execution_count": null,
   "metadata": {},
   "outputs": [],
   "source": []
  }
 ],
 "metadata": {
  "kernelspec": {
   "display_name": "Julia 1.4.0",
   "language": "julia",
   "name": "julia-1.4"
  },
  "language_info": {
   "file_extension": ".jl",
   "mimetype": "application/julia",
   "name": "julia",
   "version": "1.4.0"
  }
 },
 "nbformat": 4,
 "nbformat_minor": 4
}
