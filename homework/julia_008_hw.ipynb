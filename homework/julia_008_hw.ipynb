{
 "cells": [
  {
   "cell_type": "markdown",
   "metadata": {},
   "source": [
    "# Julia 字元 (Char) 與字串 (String)\n",
    "\n",
    "## Day 008 作業：讀取使用者輸入字串，並印出每個字元\n",
    "\n",
    "1. 使用 `readline()` 函式，讀取使用者輸入之字串。`readline()`是從 console 讀取使用者輸入的方式，讀進來的資料型別為字串，`readline()`的說明可參照官方文件 [Base.readline](https://docs.julialang.org/en/v1/base/io-network/#Base.readline)"
   ]
  },
  {
   "cell_type": "code",
   "execution_count": 1,
   "metadata": {},
   "outputs": [
    {
     "name": "stdout",
     "output_type": "stream",
     "text": [
      "stdin> Welcome to Taiwan\n"
     ]
    },
    {
     "data": {
      "text/plain": [
       "\"Welcome to Taiwan\""
      ]
     },
     "execution_count": 1,
     "metadata": {},
     "output_type": "execute_result"
    }
   ],
   "source": [
    "str = readline()"
   ]
  },
  {
   "cell_type": "markdown",
   "metadata": {},
   "source": [
    "2. 印出字串中所有字元。"
   ]
  },
  {
   "cell_type": "code",
   "execution_count": 2,
   "metadata": {},
   "outputs": [
    {
     "name": "stdout",
     "output_type": "stream",
     "text": [
      "Welcome to Taiwan\n"
     ]
    }
   ],
   "source": [
    "# 程式碼\n",
    "println(str)"
   ]
  },
  {
   "cell_type": "code",
   "execution_count": 31,
   "metadata": {},
   "outputs": [
    {
     "name": "stdout",
     "output_type": "stream",
     "text": [
      "stdin> Welcome to Taiwan\n",
      "Char 01 in Welcome to Taiwan is 'W'\n",
      "Char 02 in Welcome to Taiwan is 'e'\n",
      "Char 03 in Welcome to Taiwan is 'l'\n",
      "Char 04 in Welcome to Taiwan is 'c'\n",
      "Char 05 in Welcome to Taiwan is 'o'\n",
      "Char 06 in Welcome to Taiwan is 'm'\n",
      "Char 07 in Welcome to Taiwan is 'e'\n",
      "Char 08 in Welcome to Taiwan is ' '\n",
      "Char 09 in Welcome to Taiwan is 't'\n",
      "Char 10 in Welcome to Taiwan is 'o'\n",
      "Char 11 in Welcome to Taiwan is ' '\n",
      "Char 12 in Welcome to Taiwan is 'T'\n",
      "Char 13 in Welcome to Taiwan is 'a'\n",
      "Char 14 in Welcome to Taiwan is 'i'\n",
      "Char 15 in Welcome to Taiwan is 'w'\n",
      "Char 16 in Welcome to Taiwan is 'a'\n",
      "Char 17 in Welcome to Taiwan is 'n'\n"
     ]
    }
   ],
   "source": [
    "function PrnCharFmString()\n",
    "    str=readline()\n",
    "    for i in firstindex(str):lastindex(str)\n",
    "        j=string(i,base=10,pad=2)\n",
    "        println(\"Char $j in $str is '$(str[i])'\")\n",
    "    end\n",
    "end\n",
    "\n",
    "PrnCharFmString()"
   ]
  }
 ],
 "metadata": {
  "kernelspec": {
   "display_name": "Julia 1.4.0",
   "language": "julia",
   "name": "julia-1.4"
  },
  "language_info": {
   "file_extension": ".jl",
   "mimetype": "application/julia",
   "name": "julia",
   "version": "1.4.0"
  }
 },
 "nbformat": 4,
 "nbformat_minor": 4
}
